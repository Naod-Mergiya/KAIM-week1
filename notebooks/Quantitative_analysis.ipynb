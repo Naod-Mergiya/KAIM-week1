{
 "cells": [
  {
   "cell_type": "markdown",
   "id": "95292df8",
   "metadata": {},
   "source": [
    "## Quantitative Analysis"
   ]
  },
  {
   "cell_type": "code",
   "execution_count": 3,
   "id": "cabd95a4",
   "metadata": {},
   "outputs": [
    {
     "name": "stdout",
     "output_type": "stream",
     "text": [
      "Current working directory: e:\\KAIM\\KAIM-week1\\notebooks\n",
      "Python path: ['C:\\\\Users\\\\Naod.Amare\\\\AppData\\\\Local\\\\Programs\\\\Python\\\\Python313\\\\python313.zip', 'C:\\\\Users\\\\Naod.Amare\\\\AppData\\\\Local\\\\Programs\\\\Python\\\\Python313\\\\DLLs', 'C:\\\\Users\\\\Naod.Amare\\\\AppData\\\\Local\\\\Programs\\\\Python\\\\Python313\\\\Lib', 'C:\\\\Users\\\\Naod.Amare\\\\AppData\\\\Local\\\\Programs\\\\Python\\\\Python313', 'e:\\\\KAIM\\\\KAIM-week1\\\\venv', '', 'e:\\\\KAIM\\\\KAIM-week1\\\\venv\\\\Lib\\\\site-packages', 'e:\\\\KAIM\\\\KAIM-week1\\\\venv\\\\Lib\\\\site-packages\\\\win32', 'e:\\\\KAIM\\\\KAIM-week1\\\\venv\\\\Lib\\\\site-packages\\\\win32\\\\lib', 'e:\\\\KAIM\\\\KAIM-week1\\\\venv\\\\Lib\\\\site-packages\\\\Pythonwin', 'e:\\\\KAIM\\\\KAIM-week1\\\\venv\\\\Lib\\\\site-packages\\\\setuptools\\\\_vendor', 'e:\\\\KAIM\\\\KAIM-week1']\n"
     ]
    }
   ],
   "source": [
    "import pandas as pd\n",
    "import numpy as np\n",
    "import matplotlib.pyplot as plt\n",
    "from textblob import TextBlob\n",
    "import pynance as pyn\n",
    "import plotly.express as pe\n",
    "import os\n",
    "import sys\n",
    "\n",
    "# Add the parent directory (benin_eda_project/) to the Python path\n",
    "parent_dir = os.path.abspath(os.path.join(os.getcwd(), '..'))\n",
    "sys.path.append(parent_dir)\n",
    "\n",
    "\n",
    "\n",
    "\n",
    "\n",
    "\n",
    "## \n",
    "from src.data_loader import load_data\n",
    "from src.data_analyzer import get_summary_statistics  #,convert_timestamp\n",
    "\n",
    "\n",
    "# Debug: Print current working directory and Python path\n",
    "print('Current working directory:', os.getcwd())\n",
    "print('Python path:', sys.path)"
   ]
  },
  {
   "cell_type": "markdown",
   "id": "174e0b90",
   "metadata": {},
   "source": [
    "## Load Data"
   ]
  },
  {
   "cell_type": "markdown",
   "id": "8bd9b41c",
   "metadata": {},
   "source": []
  }
 ],
 "metadata": {
  "kernelspec": {
   "display_name": "venv",
   "language": "python",
   "name": "python3"
  },
  "language_info": {
   "codemirror_mode": {
    "name": "ipython",
    "version": 3
   },
   "file_extension": ".py",
   "mimetype": "text/x-python",
   "name": "python",
   "nbconvert_exporter": "python",
   "pygments_lexer": "ipython3",
   "version": "3.13.3"
  }
 },
 "nbformat": 4,
 "nbformat_minor": 5
}
